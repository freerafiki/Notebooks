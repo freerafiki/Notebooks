{
  "nbformat": 4,
  "nbformat_minor": 0,
  "metadata": {
    "colab": {
      "name": "Detecting Ancient Villages.ipynb",
      "provenance": [],
      "collapsed_sections": [
        "_ULesZ3CSWBM"
      ],
      "toc_visible": true
    },
    "kernelspec": {
      "name": "python3",
      "display_name": "Python 3"
    },
    "accelerator": "GPU"
  },
  "cells": [
    {
      "cell_type": "markdown",
      "metadata": {
        "id": "g27a1O9crAC7",
        "colab_type": "text"
      },
      "source": [
        "Above in Runtime --> Change Runtime Type : you can select GPU Acceleration"
      ]
    },
    {
      "cell_type": "markdown",
      "metadata": {
        "id": "Hz5LwBzoSE1L",
        "colab_type": "text"
      },
      "source": [
        "# DETECTING ANCIENT VILLAGES\n",
        "\n",
        "Project about detecting presence of rest of ancient village from geographical images."
      ]
    },
    {
      "cell_type": "markdown",
      "metadata": {
        "id": "yXJ3cThqSOwK",
        "colab_type": "text"
      },
      "source": [
        "## PREPROCESSING\n",
        "\n",
        "Mounting Google Drive to get access to data"
      ]
    },
    {
      "cell_type": "code",
      "metadata": {
        "id": "C0a-QIVtceB1",
        "colab_type": "code",
        "outputId": "1bb2b459-824b-4a63-f3c1-aa17258d850b",
        "colab": {
          "base_uri": "https://localhost:8080/",
          "height": 34
        }
      },
      "source": [
        "# mount google drive to have access\n",
        "from google.colab import drive\n",
        "drive.mount('/content/drive')\n",
        "# https://drive.google.com/drive/u/0/folders/1zOJ3p--7GxP7gv7V3uNdvXvEeArMUS-Z"
      ],
      "execution_count": 0,
      "outputs": [
        {
          "output_type": "stream",
          "text": [
            "Drive already mounted at /content/drive; to attempt to forcibly remount, call drive.mount(\"/content/drive\", force_remount=True).\n"
          ],
          "name": "stdout"
        }
      ]
    },
    {
      "cell_type": "markdown",
      "metadata": {
        "id": "_ULesZ3CSWBM",
        "colab_type": "text"
      },
      "source": [
        "### INSTALLING DEPENDENCIES"
      ]
    },
    {
      "cell_type": "code",
      "metadata": {
        "id": "KqDJXrUrGLIC",
        "colab_type": "code",
        "outputId": "b5a4fc15-3b4d-47de-823e-f5462daaabcf",
        "colab": {
          "base_uri": "https://localhost:8080/"
        }
      },
      "source": [
        "!pip install geopandas\n",
        "!pip install rasterio"
      ],
      "execution_count": 0,
      "outputs": [
        {
          "output_type": "stream",
          "text": [
            "Collecting geopandas\n",
            "\u001b[?25l  Downloading https://files.pythonhosted.org/packages/83/c5/3cf9cdc39a6f2552922f79915f36b45a95b71fd343cfc51170a5b6ddb6e8/geopandas-0.7.0-py2.py3-none-any.whl (928kB)\n",
            "\u001b[K     |████████████████████████████████| 931kB 2.7MB/s \n",
            "\u001b[?25hRequirement already satisfied: pandas>=0.23.0 in /usr/local/lib/python3.6/dist-packages (from geopandas) (1.0.4)\n",
            "Requirement already satisfied: shapely in /usr/local/lib/python3.6/dist-packages (from geopandas) (1.7.0)\n",
            "Collecting fiona\n",
            "\u001b[?25l  Downloading https://files.pythonhosted.org/packages/ec/20/4e63bc5c6e62df889297b382c3ccd4a7a488b00946aaaf81a118158c6f09/Fiona-1.8.13.post1-cp36-cp36m-manylinux1_x86_64.whl (14.7MB)\n",
            "\u001b[K     |████████████████████████████████| 14.7MB 207kB/s \n",
            "\u001b[?25hCollecting pyproj>=2.2.0\n",
            "\u001b[?25l  Downloading https://files.pythonhosted.org/packages/e5/c3/071e080230ac4b6c64f1a2e2f9161c9737a2bc7b683d2c90b024825000c0/pyproj-2.6.1.post1-cp36-cp36m-manylinux2010_x86_64.whl (10.9MB)\n",
            "\u001b[K     |████████████████████████████████| 10.9MB 40.6MB/s \n",
            "\u001b[?25hRequirement already satisfied: python-dateutil>=2.6.1 in /usr/local/lib/python3.6/dist-packages (from pandas>=0.23.0->geopandas) (2.8.1)\n",
            "Requirement already satisfied: numpy>=1.13.3 in /usr/local/lib/python3.6/dist-packages (from pandas>=0.23.0->geopandas) (1.18.4)\n",
            "Requirement already satisfied: pytz>=2017.2 in /usr/local/lib/python3.6/dist-packages (from pandas>=0.23.0->geopandas) (2018.9)\n",
            "Collecting click-plugins>=1.0\n",
            "  Downloading https://files.pythonhosted.org/packages/e9/da/824b92d9942f4e472702488857914bdd50f73021efea15b4cad9aca8ecef/click_plugins-1.1.1-py2.py3-none-any.whl\n",
            "Requirement already satisfied: six>=1.7 in /usr/local/lib/python3.6/dist-packages (from fiona->geopandas) (1.12.0)\n",
            "Requirement already satisfied: click<8,>=4.0 in /usr/local/lib/python3.6/dist-packages (from fiona->geopandas) (7.1.2)\n",
            "Collecting munch\n",
            "  Downloading https://files.pythonhosted.org/packages/cc/ab/85d8da5c9a45e072301beb37ad7f833cd344e04c817d97e0cc75681d248f/munch-2.5.0-py2.py3-none-any.whl\n",
            "Collecting cligj>=0.5\n",
            "  Downloading https://files.pythonhosted.org/packages/e4/be/30a58b4b0733850280d01f8bd132591b4668ed5c7046761098d665ac2174/cligj-0.5.0-py3-none-any.whl\n",
            "Requirement already satisfied: attrs>=17 in /usr/local/lib/python3.6/dist-packages (from fiona->geopandas) (19.3.0)\n",
            "Installing collected packages: click-plugins, munch, cligj, fiona, pyproj, geopandas\n",
            "Successfully installed click-plugins-1.1.1 cligj-0.5.0 fiona-1.8.13.post1 geopandas-0.7.0 munch-2.5.0 pyproj-2.6.1.post1\n",
            "Collecting rasterio\n",
            "\u001b[?25l  Downloading https://files.pythonhosted.org/packages/02/7e/eed7dfd109fc89ed3cf8b5ed3f26f841b03b92f6ca1c31c4745f938a081b/rasterio-1.1.5-cp36-cp36m-manylinux1_x86_64.whl (18.2MB)\n",
            "\u001b[K     |████████████████████████████████| 18.2MB 1.4MB/s \n",
            "\u001b[?25hCollecting snuggs>=1.4.1\n",
            "  Downloading https://files.pythonhosted.org/packages/cc/0e/d27d6e806d6c0d1a2cfdc5d1f088e42339a0a54a09c3343f7f81ec8947ea/snuggs-1.4.7-py3-none-any.whl\n",
            "Requirement already satisfied: attrs in /usr/local/lib/python3.6/dist-packages (from rasterio) (19.3.0)\n",
            "Requirement already satisfied: numpy in /usr/local/lib/python3.6/dist-packages (from rasterio) (1.18.4)\n",
            "Requirement already satisfied: click-plugins in /usr/local/lib/python3.6/dist-packages (from rasterio) (1.1.1)\n",
            "Collecting affine\n",
            "  Downloading https://files.pythonhosted.org/packages/ac/a6/1a39a1ede71210e3ddaf623982b06ecfc5c5c03741ae659073159184cd3e/affine-2.3.0-py2.py3-none-any.whl\n",
            "Requirement already satisfied: cligj>=0.5 in /usr/local/lib/python3.6/dist-packages (from rasterio) (0.5.0)\n",
            "Requirement already satisfied: click<8,>=4.0 in /usr/local/lib/python3.6/dist-packages (from rasterio) (7.1.2)\n",
            "Requirement already satisfied: pyparsing>=2.1.6 in /usr/local/lib/python3.6/dist-packages (from snuggs>=1.4.1->rasterio) (2.4.7)\n",
            "Installing collected packages: snuggs, affine, rasterio\n",
            "Successfully installed affine-2.3.0 rasterio-1.1.5 snuggs-1.4.7\n"
          ],
          "name": "stdout"
        }
      ]
    },
    {
      "cell_type": "markdown",
      "metadata": {
        "id": "imSAk04hSY-C",
        "colab_type": "text"
      },
      "source": [
        "### IMPORTING EVERYTHING WE NEED"
      ]
    },
    {
      "cell_type": "code",
      "metadata": {
        "id": "_PpXfZvlq3hH",
        "colab_type": "code",
        "outputId": "4bfcf535-2f4f-44bb-8591-22adfb8b9fc1",
        "colab": {
          "base_uri": "https://localhost:8080/",
          "height": 34
        }
      },
      "source": [
        "import os\n",
        "import matplotlib.pyplot as plt\n",
        "from PIL import Image\n",
        "from torchvision.transforms import ToTensor\n",
        "from shutil import copyfile\n",
        "import os\n",
        "import geopandas as gpd\n",
        "from shapely.geometry import Point, Polygon\n",
        "import numpy as np\n",
        "import rasterio\n",
        "import shutil\n",
        "import random\n",
        "\n",
        "os.getcwd()"
      ],
      "execution_count": 0,
      "outputs": [
        {
          "output_type": "execute_result",
          "data": {
            "text/plain": [
              "'/content'"
            ]
          },
          "metadata": {
            "tags": []
          },
          "execution_count": 4
        }
      ]
    },
    {
      "cell_type": "markdown",
      "metadata": {
        "id": "yJOD7kwVScml",
        "colab_type": "text"
      },
      "source": [
        "### CHECKS\n",
        "\n",
        "Checking out that everything is in the project folder as we thought"
      ]
    },
    {
      "cell_type": "code",
      "metadata": {
        "id": "wW16l1XOgDgj",
        "colab_type": "code",
        "outputId": "4b29491f-4997-4e46-8dc7-7fdd0a331d03",
        "colab": {
          "base_uri": "https://localhost:8080/",
          "height": 34
        }
      },
      "source": [
        "project_folder = \"/content/drive/My Drive/Detecting Ancient Villages\"\n",
        "print(os.listdir(project_folder))"
      ],
      "execution_count": 0,
      "outputs": [
        {
          "output_type": "stream",
          "text": [
            "['data_gt_complete.zip', 'Detecting Ancient Villages']\n"
          ],
          "name": "stdout"
        }
      ]
    },
    {
      "cell_type": "code",
      "metadata": {
        "id": "aqeUIFS_iJJy",
        "colab_type": "code",
        "colab": {}
      },
      "source": [
        "!unzip -q \"/content/drive/My Drive/Detecting Ancient Villages/data_gt_complete.zip\""
      ],
      "execution_count": 0,
      "outputs": []
    },
    {
      "cell_type": "code",
      "metadata": {
        "id": "qRZaZI-DGQAp",
        "colab_type": "code",
        "colab": {}
      },
      "source": [
        "try:\n",
        "    os.mkdir('data/derived_data/negative_examples')\n",
        "\n",
        "except OSError:\n",
        "    pass"
      ],
      "execution_count": 0,
      "outputs": []
    },
    {
      "cell_type": "markdown",
      "metadata": {
        "id": "hqmYOMGaSmUf",
        "colab_type": "text"
      },
      "source": [
        "## DATA PREPARATION\n",
        "\n",
        "Start to read the data and prepare the division into confirmed site (images where we know there is a tell), negative site (images where we know that there is not) and random sites (where we cannot say beforehand what is there."
      ]
    },
    {
      "cell_type": "code",
      "metadata": {
        "id": "ScgG0eUjGR55",
        "colab_type": "code",
        "outputId": "823dd709-0cf7-42cc-a212-978a9418404e",
        "colab": {
          "base_uri": "https://localhost:8080/",
          "height": 71
        }
      },
      "source": [
        "# Data\n",
        "datadir = os.getcwd()\n",
        "tell_sites = gpd.read_file(\"data/raw_data/tell_sites.geojson\").to_crs({'init': 'epsg:32637'})\n",
        "poly = tell_sites.copy()\n",
        "directory = r'data/derived_data/tiles'"
      ],
      "execution_count": 0,
      "outputs": [
        {
          "output_type": "stream",
          "text": [
            "/usr/local/lib/python3.6/dist-packages/pyproj/crs/crs.py:53: FutureWarning: '+init=<authority>:<code>' syntax is deprecated. '<authority>:<code>' is the preferred initialization method. When making the change, be mindful of axis order changes: https://pyproj4.github.io/pyproj/stable/gotchas.html#axis-order-changes-in-proj-6\n",
            "  return _prepare_from_string(\" \".join(pjargs))\n"
          ],
          "name": "stderr"
        }
      ]
    },
    {
      "cell_type": "markdown",
      "metadata": {
        "id": "WOcU4eU-T4TP",
        "colab_type": "text"
      },
      "source": [
        "This is the code that we use to move the images of the confirmed sites to another folder. We already know which images are confirmed, it's already in the dataset as information (contained in the geojson file)"
      ]
    },
    {
      "cell_type": "code",
      "metadata": {
        "id": "mKJAKF-vFzXa",
        "colab_type": "code",
        "colab": {}
      },
      "source": [
        "# import os\n",
        "# import gdal\n",
        "# import rasterio\n",
        "# import numpy as np\n",
        "# import geopandas as gpd\n",
        "# from shapely.geometry import Point, Polygon\n",
        "# import shutil\n",
        "\n",
        "# try:\n",
        "#     os.mkdir('data\\\\derived_data')\n",
        "#     os.mkdir('data\\\\derived_data\\\\tiles')\n",
        "#     os.mkdir('data\\\\derived_data\\\\confirmed_sites')\n",
        "\n",
        "# except OSError:\n",
        "#     pass\n",
        "\n",
        "# datadir = os.getcwd()\n",
        "\n",
        "# # Data\n",
        "# tell_sites = gpd.read_file(\"data\\\\raw_data\\\\tell_sites.geojson\").to_crs({'init': 'epsg:32637'})\n",
        "\n",
        "# # Preparation for tiling\n",
        "# data_folder = os.getcwd()+'\\\\data'\n",
        "# input_filename = '\\\\raw_data\\\\study_area_hillshade_32637_GT.tif'\n",
        "\n",
        "# out_path = data_folder+'\\\\derived_data\\\\tiles\\\\'\n",
        "# output_filename = 'tile_'\n",
        "\n",
        "# # Define tiling size\n",
        "# gt_dem = rasterio.open(data_folder+input_filename, crs={'init': 'epsg:32637'})\n",
        "\n",
        "# tile_size_x = np.round(gt_dem.shape[0]/55, 0).astype(int)  # in pixels not metrics!\n",
        "# tile_size_y = np.round(gt_dem.shape[1]/55, 0).astype(int)\n",
        "\n",
        "# ds = gdal.Open(data_folder + input_filename)\n",
        "# band = ds.GetRasterBand(1)\n",
        "# xsize = band.XSize\n",
        "# ysize = band.YSize\n",
        "\n",
        "# # For loop for tiling using GDAL\n",
        "# for i in range(0, xsize, tile_size_x):\n",
        "#     for j in range(0, ysize, tile_size_y):\n",
        "#         com_string = \"gdal_translate -of GTIFF -srcwin \" + str(i) + \", \" + str(j) + \", \" + str(\n",
        "#             tile_size_x) + \", \" + str(tile_size_y) + \" \" + str(data_folder) + str(input_filename) + \" \" + str(\n",
        "#             out_path) + str(output_filename) + str(i) + \"_\" + str(j) + \".tif\"\n",
        "#         os.system(com_string)\n",
        "\n",
        "\n",
        "# # Loop through directory\n",
        "# directory = r'data\\\\derived_data\\\\tiles'\n",
        "# findings = []\n",
        "# sites = gpd.GeoSeries(tell_sites['geometry'], crs='EPSG:32637')\n",
        "\n",
        "# for filename in os.listdir(directory):\n",
        "#     raster = rasterio.open(directory+'\\\\'+filename, crs={'init': 'epsg:32637'})\n",
        "#     points = [Point(np.asarray(raster.bounds)[0], np.asarray(raster.bounds)[1]),\n",
        "#               Point(np.asarray(raster.bounds)[2], np.asarray(raster.bounds)[1]),\n",
        "#               Point(np.asarray(raster.bounds)[2], np.asarray(raster.bounds)[3]),\n",
        "#               Point(np.asarray(raster.bounds)[0], np.asarray(raster.bounds)[3])]\n",
        "\n",
        "#     bb = gpd.GeoSeries(Polygon(sum(map(list, (p.coords for p in points)), [])), crs='EPSG:32637')\n",
        "#     bools = sites.within(bb.loc[0])\n",
        "\n",
        "#     if True in bools.values:\n",
        "#         print('Found containing polygon:', filename)\n",
        "#         findings.append('data\\\\derived_data\\\\tiles\\\\'+filename)\n",
        "\n",
        "#     else:\n",
        "#         continue\n",
        "\n",
        "\n",
        "# # Copy found areas to external folder\n",
        "# for f in findings:\n",
        "#     shutil.copy(f, 'data\\\\derived_data\\\\confirmed_sites')"
      ],
      "execution_count": 0,
      "outputs": []
    },
    {
      "cell_type": "markdown",
      "metadata": {
        "id": "oEmlQx0lS1B4",
        "colab_type": "text"
      },
      "source": [
        "We already detected the positive sites, with the code above that now is commented, so now we want to look at the negative sites. We take a 900 meters buffer and we assume that within 900m of a tell there should be no other tell. Then we classify the images within this range as negative sites"
      ]
    },
    {
      "cell_type": "code",
      "metadata": {
        "id": "NiY_CrB5GJGV",
        "colab_type": "code",
        "colab": {}
      },
      "source": [
        "# Buffer each point using a 900 meter circle radius\n",
        "poly[\"geometry\"] = poly.geometry.buffer(900)\n",
        "poly_g = gpd.GeoSeries(poly['geometry'], crs='EPSG:32637')\n",
        "\n",
        "findings_negative = []\n",
        "confirmed_sites = os.listdir('data/derived_data/confirmed_sites')\n",
        "confirmed_sites = ['data/derived_data/tiles/' + x for x in confirmed_sites]\n",
        "\n",
        "for filename in os.listdir(directory):\n",
        "    raster = rasterio.open(directory+'/'+filename, crs={'init': 'epsg:32637'})\n",
        "    points = [Point(np.asarray(raster.bounds)[0], np.asarray(raster.bounds)[1]),\n",
        "              Point(np.asarray(raster.bounds)[2], np.asarray(raster.bounds)[1]),\n",
        "              Point(np.asarray(raster.bounds)[2], np.asarray(raster.bounds)[3]),\n",
        "              Point(np.asarray(raster.bounds)[0], np.asarray(raster.bounds)[3])]\n",
        "\n",
        "    bb = gpd.GeoSeries(Polygon(sum(map(list, (p.coords for p in points)), [])), crs='EPSG:32637')\n",
        "    bools = poly_g.overlaps(bb.loc[0])\n",
        "\n",
        "    if True in bools.values:\n",
        "        # print('Found overlapping polygon:', filename)\n",
        "        findings_negative.append('data/derived_data/tiles/'+filename)\n",
        "\n",
        "    else:\n",
        "        continue"
      ],
      "execution_count": 0,
      "outputs": []
    },
    {
      "cell_type": "markdown",
      "metadata": {
        "id": "XqkGcZmYTJMQ",
        "colab_type": "text"
      },
      "source": [
        "We still have too few images, so we need to add some of the images from the random sites. We would like to reach a high amount of data to train accurately the network. \n",
        "So we add some images at random."
      ]
    },
    {
      "cell_type": "code",
      "metadata": {
        "id": "Xa9aiEGuGVvy",
        "colab_type": "code",
        "outputId": "62bd1304-91aa-491d-80d4-ab8ed36bcb29",
        "colab": {
          "base_uri": "https://localhost:8080/",
          "height": 34
        }
      },
      "source": [
        "# Randomely chosen images\n",
        "print(\"we found {} negative images where we are pretty sure\".format(len(findings_negative)))\n",
        "number_of_images_we_want_to_have_for_training = 2500 # I define it as a variable so we can change it\n",
        "\n",
        "all_tiles = os.listdir('data/derived_data/tiles')\n",
        "all_tiles = ['data/derived_data/tiles/' + x for x in all_tiles]\n",
        "used_ones = confirmed_sites+findings_negative\n",
        "\n",
        "for i in used_ones:\n",
        "    try:\n",
        "        all_tiles.remove(i)\n",
        "    except ValueError:\n",
        "        pass\n",
        "\n",
        "random_sites = random.sample(all_tiles, number_of_images_we_want_to_have_for_training-len(findings_negative))"
      ],
      "execution_count": 0,
      "outputs": [
        {
          "output_type": "stream",
          "text": [
            "we found 218 negative images where we are pretty sure\n"
          ],
          "name": "stdout"
        }
      ]
    },
    {
      "cell_type": "markdown",
      "metadata": {
        "id": "Oh2vFrofTfLL",
        "colab_type": "text"
      },
      "source": [
        "Here we actually move the image to another folder"
      ]
    },
    {
      "cell_type": "code",
      "metadata": {
        "id": "lP2UIY6PGsjj",
        "colab_type": "code",
        "outputId": "110e9e0d-61ab-4eae-9d56-051061dacd82",
        "colab": {
          "base_uri": "https://localhost:8080/",
          "height": 34
        }
      },
      "source": [
        "# Copy found areas to external folder\n",
        "print(\"so now we copy {} negaative images + {} random = {} in total into our negative example folder, that will be used as negative examples\".format(len(findings_negative), len(random_sites), len(findings_negative)+len(random_sites)))\n",
        "for f in findings_negative+random_sites:\n",
        "    shutil.copy(f, 'data/derived_data/negative_examples')"
      ],
      "execution_count": 0,
      "outputs": [
        {
          "output_type": "stream",
          "text": [
            "so now we copy 218 negaative images + 2282 random = 2500 in total into our negative example folder, that will be used as negative examples\n"
          ],
          "name": "stdout"
        }
      ]
    },
    {
      "cell_type": "markdown",
      "metadata": {
        "id": "YAcyV1FfTxsV",
        "colab_type": "text"
      },
      "source": [
        "Let's make a quick check - how many images and where we have them"
      ]
    },
    {
      "cell_type": "code",
      "metadata": {
        "id": "4b6wRhtVVKaq",
        "colab_type": "code",
        "outputId": "b169fd45-ca4b-4deb-ba85-dc45da9a2089",
        "colab": {
          "base_uri": "https://localhost:8080/",
          "height": 102
        }
      },
      "source": [
        "print(\"What do we have now?\")\n",
        "number_of_images = len(os.listdir('data/derived_data/tiles/'))\n",
        "number_of_positive_images = len(os.listdir('data/derived_data/confirmed_sites/'))\n",
        "number_of_negative_images = len(os.listdir('data/derived_data/negative_examples/'))\n",
        "unlabeled_images = number_of_images - number_of_positive_images - number_of_negative_images\n",
        "print(\"- {} images in total\".format(number_of_images))\n",
        "print(\"- {} images labeled as positive example\".format(number_of_positive_images))\n",
        "print(\"- {} images labeled as negative example\".format(number_of_negative_images))\n",
        "print(\"- {} unlabeled images\".format(unlabeled_images))"
      ],
      "execution_count": 0,
      "outputs": [
        {
          "output_type": "stream",
          "text": [
            "What do we have now?\n",
            "- 3149 images in total\n",
            "- 50 images labeled as positive example\n",
            "- 2500 images labeled as negative example\n",
            "- 599 unlabeled images\n"
          ],
          "name": "stdout"
        }
      ]
    },
    {
      "cell_type": "markdown",
      "metadata": {
        "id": "O38MKWpdWG0-",
        "colab_type": "text"
      },
      "source": [
        "It looks like we have a lot of unlabeled images, which is not good. It would be nice to increase a bit the number of \"labeled\" images for the training.\n",
        "\n",
        "For the moment we accept it and we create two sets, one big for training (90%), one small for validation (the remaining 10%)"
      ]
    },
    {
      "cell_type": "markdown",
      "metadata": {
        "id": "dGnpcd5zW2za",
        "colab_type": "text"
      },
      "source": [
        "### DIVIDE TRAINING AND VALIDATION DATA\n",
        "\n",
        "We create the folder structure"
      ]
    },
    {
      "cell_type": "code",
      "metadata": {
        "id": "eNoHnl-IWgvs",
        "colab_type": "code",
        "colab": {}
      },
      "source": [
        "# divide the images in folders\n",
        "# -- data\n",
        "#  |\n",
        "#  |--- train\n",
        "#  |  |\n",
        "#  |  |-- tell\n",
        "#  |  |\n",
        "#  |  |-- notell\n",
        "#  |  \n",
        "#  |-- validation\n",
        "#    |\n",
        "#    |-- tell\n",
        "#    |\n",
        "#    |-- notell\n",
        "train_dir = 'data' + '/train'\n",
        "validation_dir = 'data' + '/validation'\n",
        "class1 = 'tell'\n",
        "class2 = 'notell'\n",
        "if not os.path.exists(train_dir):\n",
        "  os.mkdir(train_dir)\n",
        "if not os.path.exists(validation_dir):\n",
        "  os.mkdir(validation_dir)\n",
        "if not os.path.exists(train_dir + '/' + class1):\n",
        "  os.mkdir(train_dir + '/' + class1)\n",
        "if not os.path.exists(train_dir + '/' + class2):\n",
        "  os.mkdir(train_dir + '/' + class2)\n",
        "if not os.path.exists(validation_dir + '/' + class1):\n",
        "  os.mkdir(validation_dir + '/' + class1)\n",
        "if not os.path.exists(validation_dir + '/' + class2):\n",
        "  os.mkdir(validation_dir + '/' + class2)"
      ],
      "execution_count": 0,
      "outputs": []
    },
    {
      "cell_type": "markdown",
      "metadata": {
        "id": "9qoHa_4TXBA3",
        "colab_type": "text"
      },
      "source": [
        "Now we take random image for training and validation sets"
      ]
    },
    {
      "cell_type": "code",
      "metadata": {
        "id": "loFuSBPxX6H1",
        "colab_type": "code",
        "outputId": "19e71ac7-c4b2-44a7-c9f9-14035ce57126",
        "colab": {
          "base_uri": "https://localhost:8080/",
          "height": 51
        }
      },
      "source": [
        "# we create two lists with the name of the images\n",
        "positive_images = os.listdir('data/derived_data/confirmed_sites')\n",
        "negative_images = os.listdir('data/derived_data/negative_examples')\n",
        "# we shuffle them\n",
        "random.shuffle(positive_images)\n",
        "random.shuffle(negative_images)\n",
        "# how many images would be 90%?\n",
        "positive_90 = np.round(len(positive_images) * 0.9).astype(int) # we round to integer\n",
        "negative_90 = np.round(len(negative_images) * 0.9).astype(int) # we round to integer\n",
        "remaining_10_positive = len(positive_images) - positive_90\n",
        "remaining_10_negative = len(negative_images) - negative_90\n",
        "print(\"we will use {} positive image and {} negative, so {} in total, for the training\".format(positive_90, negative_90, positive_90 + negative_90))\n",
        "print(\"and we will use {} positive image and {} negative, so {} in total, for the validation\".format(remaining_10_positive, remaining_10_negative, remaining_10_positive + remaining_10_negative))\n",
        "# split them\n",
        "train_positive = positive_images[:positive_90] # in python array[:N] means the first N elements\n",
        "validation_positive = positive_images[-remaining_10_positive:] # in python array[-M:] means the last M elements \n",
        "train_negative = negative_images[:negative_90] # in python array[:N] means the first N elements\n",
        "validation_negative = negative_images[-remaining_10_negative:] # in python array[-M:] means the last M elements \n",
        "# we copy them in hte folder. We could have just moved them, but I think there are no space problem, so we can copy everything\n",
        "for img_path in train_positive:\n",
        "  copyfile('data/derived_data/confirmed_sites/' + img_path, train_dir + '/tell/' + img_path)\n",
        "for img_path in train_negative:\n",
        "  copyfile('data/derived_data/negative_examples/' + img_path, train_dir + '/notell/' + img_path)\n",
        "for img_path in validation_positive:\n",
        "  copyfile('data/derived_data/confirmed_sites/' + img_path, validation_dir + '/tell/' + img_path)\n",
        "for img_path in validation_negative:\n",
        "  copyfile('data/derived_data/negative_examples/' + img_path, validation_dir + '/notell/' + img_path)"
      ],
      "execution_count": 0,
      "outputs": [
        {
          "output_type": "stream",
          "text": [
            "we will use 45 positive image and 2250 negative, so 2295 in total, for the training\n",
            "and we will use 5 positive image and 250 negative, so 255 in total, for the validation\n"
          ],
          "name": "stdout"
        }
      ]
    },
    {
      "cell_type": "markdown",
      "metadata": {
        "id": "Jy6VFAu0bf0C",
        "colab_type": "text"
      },
      "source": [
        "### HOW DO IMAGES LOOK LIKE?\n",
        "\n",
        "Let's take a look - first some positive examples!"
      ]
    },
    {
      "cell_type": "code",
      "metadata": {
        "id": "P4jEKb8jbtZz",
        "colab_type": "code",
        "outputId": "bf5e95ca-ea79-4e42-c9bd-352bc8cc9067",
        "colab": {
          "base_uri": "https://localhost:8080/",
          "height": 283
        }
      },
      "source": [
        "# IMAGES WITH TELL\n",
        "%matplotlib inline\n",
        "\n",
        "data_folder = train_dir + '/tell/'\n",
        "images = os.listdir(data_folder)\n",
        "random.shuffle(images)\n",
        "indices = [0, 2, 4, 8]\n",
        "plt.figure(figsize=(16,8))\n",
        "plt.title(\"Images with Tell\")\n",
        "\n",
        "for i, ind in enumerate(indices):\n",
        "  image_path = data_folder + images[ind]\n",
        "  image = Image.open(image_path)\n",
        "  plt.subplot(1, len(indices), i+1)\n",
        "  plt.imshow(image)"
      ],
      "execution_count": 0,
      "outputs": [
        {
          "output_type": "display_data",
          "data": {
            "image/png": "[encoded data removed]",
            "text/plain": [
              "<Figure size 1152x576 with 4 Axes>"
            ]
          },
          "metadata": {
            "tags": [],
            "needs_background": "light"
          }
        }
      ]
    },
    {
      "cell_type": "markdown",
      "metadata": {
        "id": "nzuiZD-ucIN_",
        "colab_type": "text"
      },
      "source": [
        "Good! Now some negative examples!"
      ]
    },
    {
      "cell_type": "code",
      "metadata": {
        "id": "DBod_E03xg4T",
        "colab_type": "code",
        "outputId": "b7172959-b5fd-4e00-8b0b-f75c94f95768",
        "colab": {
          "base_uri": "https://localhost:8080/",
          "height": 283
        }
      },
      "source": [
        "# IMAGE WITHOUT TELL\n",
        "data_folder_no_tell = train_dir + '/notell/'\n",
        "\n",
        "images = os.listdir(data_folder_no_tell)\n",
        "random.shuffle(images)\n",
        "indices = [0, 2, 4, 8]\n",
        "plt.figure(figsize=(16,8))\n",
        "plt.title(\"Images with no Tell\")\n",
        "\n",
        "for i, ind in enumerate(indices):\n",
        "  image_path = data_folder_no_tell + images[ind]\n",
        "  image = Image.open(image_path)\n",
        "  plt.subplot(1, len(indices), i+1)\n",
        "  plt.imshow(image)"
      ],
      "execution_count": 0,
      "outputs": [
        {
          "output_type": "display_data",
          "data": {
            "image/png": "[encoded data removed]",
            "text/plain": [
              "<Figure size 1152x576 with 4 Axes>"
            ]
          },
          "metadata": {
            "tags": [],
            "needs_background": "light"
          }
        }
      ]
    },
    {
      "cell_type": "markdown",
      "metadata": {
        "id": "EnncHomjcXZ1",
        "colab_type": "text"
      },
      "source": [
        "It looks good, images are quite different!"
      ]
    },
    {
      "cell_type": "markdown",
      "metadata": {
        "id": "U4jC_KPetPAh",
        "colab_type": "text"
      },
      "source": [
        "# AFTER THIS IT DOES NOT WORK CORRECTLY\n",
        "\n",
        "- I am not sure about which model to use, and the input_shape is not working as expected. The generator creates images with 3 channels, this is weird\n",
        "- not sure we need the last two layers, maybe only one\n",
        "- optimizer and loss are just the standard\n",
        "- some images do not look good, there are black part, probably because of the generator\n",
        "\n",
        "so, as said, after this is more of an attempt to do something, but it does not work. Feel free to delete and throw away and do something better :)"
      ]
    },
    {
      "cell_type": "markdown",
      "metadata": {
        "id": "eDVsXczCaX4f",
        "colab_type": "text"
      },
      "source": [
        "### DATA GENERATOR FROM TENSORFLOW\n",
        "\n",
        "Now we can use the data generator from Tensorflow to create our dataset for us in the way tensorflow likes it. This will come in handy later, if we want to add data augmentation or want to make small changes to the code\n",
        "\n",
        "For more information about ImageDataGenerators, look [here](https://www.tensorflow.org/api_docs/python/tf/keras/preprocessing/image/ImageDataGenerator)"
      ]
    },
    {
      "cell_type": "code",
      "metadata": {
        "id": "OQoFL48lak9r",
        "colab_type": "code",
        "outputId": "6bd1420d-3e18-4afc-c645-8fa0b22c867c",
        "colab": {
          "base_uri": "https://localhost:8080/",
          "height": 51
        }
      },
      "source": [
        "import tensorflow as tf\n",
        "from tensorflow.keras.preprocessing.image import ImageDataGenerator\n",
        "\n",
        "# create an ImageDataGenerator\n",
        "# we rescale image to have values betwen 0 and 1\n",
        "train_datagen = ImageDataGenerator(rescale=1./255)\n",
        "test_datagen = ImageDataGenerator(rescale=1./255)\n",
        "\n",
        "# this .flow_from_directory is just telling where the data is, and which kind of class we have\n",
        "train_generator = train_datagen.flow_from_directory(\n",
        "        'data/train',\n",
        "        shuffle=True,\n",
        "        target_size=(50, 50),\n",
        "        class_mode='binary')\n",
        "validation_generator = test_datagen.flow_from_directory(\n",
        "        'data/validation',\n",
        "        target_size=(50, 50),\n",
        "        class_mode='binary')"
      ],
      "execution_count": 0,
      "outputs": [
        {
          "output_type": "stream",
          "text": [
            "Found 2295 images belonging to 2 classes.\n",
            "Found 255 images belonging to 2 classes.\n"
          ],
          "name": "stdout"
        }
      ]
    },
    {
      "cell_type": "markdown",
      "metadata": {
        "id": "bSa3wCzwaXyn",
        "colab_type": "text"
      },
      "source": [
        "Great! It seems that the number coincide with the one we had above, so maybe it's working!\n",
        "\n",
        "To try to explain the generator, it takes the folder as input `data/train` and `data/validation` and some parameters on how the data should prepared for the training. \n",
        "\n",
        "One may ask, why `target_size=(50, 50)`. Good question, somehow Tensorflow loves squared size image, and it will distort the images to make them fit. It is not the best, but at the moment I could not think of a better solution. \n",
        "\n",
        "Lastly `class_mode=binary` means we have two classes. We may have to change this if we want to do something else."
      ]
    },
    {
      "cell_type": "markdown",
      "metadata": {
        "id": "9bZGuP_zus8x",
        "colab_type": "text"
      },
      "source": [
        "We take a quick look about the images when they are fed to the neural network. They are a bit squashed to be squared, but nothing dramatic"
      ]
    },
    {
      "cell_type": "code",
      "metadata": {
        "id": "gu3OjO-Jugu8",
        "colab_type": "code",
        "colab": {}
      },
      "source": [
        "# This function will plot images in the form of a grid with 1 row and 5 columns where images are placed in each column.\n",
        "def plotImages(images_arr):\n",
        "    fig, axes = plt.subplots(1, 5, figsize=(20,20))\n",
        "    axes = axes.flatten()\n",
        "    for img, ax in zip( images_arr, axes):\n",
        "        ax.imshow(img)\n",
        "        ax.axis('off')\n",
        "    plt.tight_layout()\n",
        "    plt.show()\n"
      ],
      "execution_count": 0,
      "outputs": []
    },
    {
      "cell_type": "code",
      "metadata": {
        "id": "fMO1RRBLujwe",
        "colab_type": "code",
        "outputId": "10212467-3da4-4aef-80bb-80708b323375",
        "colab": {
          "base_uri": "https://localhost:8080/",
          "height": 306
        }
      },
      "source": [
        "sample_training_images, _ = next(train_generator)\n",
        "plotImages(sample_training_images[:5])"
      ],
      "execution_count": 0,
      "outputs": [
        {
          "output_type": "display_data",
          "data": {
            "image/png": "[encoded data removed]",
            "text/plain": [
              "<Figure size 1440x1440 with 5 Axes>"
            ]
          },
          "metadata": {
            "tags": [],
            "needs_background": "light"
          }
        }
      ]
    },
    {
      "cell_type": "markdown",
      "metadata": {
        "id": "HLgZXzsSvAu0",
        "colab_type": "text"
      },
      "source": [
        "And they are also created as 3 channel images. I am not sure why, or whether this is correct!"
      ]
    },
    {
      "cell_type": "markdown",
      "metadata": {
        "id": "1oE2zB2Ncv2n",
        "colab_type": "text"
      },
      "source": [
        "## THE MODEL \n",
        "\n",
        "Now we can start to think about our neural network. How it should look like, how many layers and hidden units? \n",
        "Nobody knows, but we can try to play around a little bit."
      ]
    },
    {
      "cell_type": "code",
      "metadata": {
        "id": "XyIHl6-mdjHw",
        "colab_type": "code",
        "colab": {}
      },
      "source": [
        "from tensorflow.keras.models import Sequential\n",
        "from tensorflow.keras.layers import Dense, Conv2D, Flatten, Dropout, MaxPooling2D\n",
        "\n",
        "IMG_HEIGHT = 50\n",
        "IMG_WIDTH = 50\n",
        "\n",
        "model = Sequential([\n",
        "    Conv2D(16, 3, padding='same', activation='relu', input_shape=(IMG_HEIGHT, IMG_WIDTH, 3)),\n",
        "    MaxPooling2D(),\n",
        "    Conv2D(32, 3, padding='same', activation='relu'),\n",
        "    MaxPooling2D(),\n",
        "    Flatten(),\n",
        "    Dense(512, activation='relu'),\n",
        "    Dense(1, activation='sigmoid')\n",
        "])"
      ],
      "execution_count": 0,
      "outputs": []
    },
    {
      "cell_type": "markdown",
      "metadata": {
        "id": "BY-Lnly_dqx3",
        "colab_type": "text"
      },
      "source": [
        "Here again, some explanation are needed. \n",
        "We create a Sequential model (a Sequential allows us to create a network layer by layer, which is fine for our purposes and makes it easier to see). Alternatively, one could use a Functional model. I am not an expert on that, here [an article](https://jovianlin.io/keras-models-sequential-vs-functional/) about that.\n",
        "\n",
        "So we have first two convolutional layers. The first one has 16 filter kernels, the second one 32. Why these numbers are like this, is hard to say. We should try and see what works better. Usually multiples of 2 are used. \n",
        "The max pooling layer is used to group 4 pixels into one, so it works as a down-scaling to simplify stuff.\n",
        "The flattening actually only reshape the image into a vector, to feed it to the last dense layer. The last layer it has a different activation function, because it needs to classify. So the last `Dense(1)` means we have 1 output neurons which can take the value of `0` --> no tell or `1` --> yes tell!"
      ]
    },
    {
      "cell_type": "code",
      "metadata": {
        "id": "xjtMdSLve1Kr",
        "colab_type": "code",
        "outputId": "658f2215-b651-46c6-dd57-d514d7704c41",
        "colab": {
          "base_uri": "https://localhost:8080/",
          "height": 391
        }
      },
      "source": [
        "model.summary()"
      ],
      "execution_count": 0,
      "outputs": [
        {
          "output_type": "stream",
          "text": [
            "Model: \"sequential\"\n",
            "_________________________________________________________________\n",
            "Layer (type)                 Output Shape              Param #   \n",
            "=================================================================\n",
            "conv2d (Conv2D)              (None, 50, 50, 16)        448       \n",
            "_________________________________________________________________\n",
            "max_pooling2d (MaxPooling2D) (None, 25, 25, 16)        0         \n",
            "_________________________________________________________________\n",
            "conv2d_1 (Conv2D)            (None, 25, 25, 32)        4640      \n",
            "_________________________________________________________________\n",
            "max_pooling2d_1 (MaxPooling2 (None, 12, 12, 32)        0         \n",
            "_________________________________________________________________\n",
            "flatten (Flatten)            (None, 4608)              0         \n",
            "_________________________________________________________________\n",
            "dense (Dense)                (None, 512)               2359808   \n",
            "_________________________________________________________________\n",
            "dense_1 (Dense)              (None, 1)                 513       \n",
            "=================================================================\n",
            "Total params: 2,365,409\n",
            "Trainable params: 2,365,409\n",
            "Non-trainable params: 0\n",
            "_________________________________________________________________\n"
          ],
          "name": "stdout"
        }
      ]
    },
    {
      "cell_type": "markdown",
      "metadata": {
        "id": "qlsMXlPue5bT",
        "colab_type": "text"
      },
      "source": [
        "Maybe this helps to visualize the layers one on top of the others. The shape field is interesting, and we see how our image becames smaller and smaller each time a pooling layer is applied!\n",
        "\n",
        "Also the number of parameters is super high, and that's why we need the training!\n",
        "\n",
        "But before we need to tell the model which function to use for the training!"
      ]
    },
    {
      "cell_type": "code",
      "metadata": {
        "id": "QFV4UP_SfRFH",
        "colab_type": "code",
        "colab": {}
      },
      "source": [
        "model.compile(optimizer='adam',\n",
        "              loss=tf.keras.losses.BinaryCrossentropy(from_logits=True),\n",
        "              metrics=['accuracy'])"
      ],
      "execution_count": 0,
      "outputs": []
    },
    {
      "cell_type": "markdown",
      "metadata": {
        "id": "UNJnKbmAfV-b",
        "colab_type": "text"
      },
      "source": [
        "This also can look a little complicated. \n",
        "Basically Adam is one of the most famous optimizers, it is a combination of momentum and RMSProp, if you have heard about that. It is a refined version of Gradient Descent, which exploits the previously computed gradient to ensure training robustness against local minima and speed up training!\n",
        "\n",
        "The loss function is the binary crossentropy. It is just a way to compute how 'good' the algorithm did, based on our data. It is binary, and gives a positive or negative score if the model did good or bad.\n",
        "\n",
        "Metrics is what we want to have our training to tell us and plot. It's the standard usually."
      ]
    },
    {
      "cell_type": "markdown",
      "metadata": {
        "id": "-6QqvdsvfJN9",
        "colab_type": "text"
      },
      "source": [
        "## TRAINING\n",
        "\n",
        "So now we can think about training our model with the data we prepared!\n",
        "\n",
        "In the training we will define `batch_size` and `epochs` as parameters. \n",
        "`batch_size` means we divide our training set in small batches of `batch_size` and feed them to the training until we reached the full length of the dataset.\n",
        "`epochs` is how many times we run throught the whole dataset. A large number of `epochs` may take a looooong time!\n",
        "\n",
        "**WARNING: THIS MAY TAKE A WHILE! ENSURE YOU HAVE GPU SELECTED IN RUNTIME!**"
      ]
    },
    {
      "cell_type": "code",
      "metadata": {
        "id": "WC9TqR5WfIan",
        "colab_type": "code",
        "outputId": "85dd3395-564b-40c3-809a-61dd2f434dab",
        "colab": {
          "base_uri": "https://localhost:8080/",
          "height": 204
        }
      },
      "source": [
        "# as explained above\n",
        "batch_size = 8\n",
        "epochs = 5\n",
        "# we explain this below\n",
        "training_size = positive_90 + negative_90\n",
        "steps_per_epoch = np.floor((training_size // (batch_size * epochs)) - 1).astype(int)\n",
        "print(\"we use {} steps per epoch, so for one epoch we use {} images and for {} epochs we use {} images\".format(steps_per_epoch, steps_per_epoch * batch_size, epochs, steps_per_epoch * batch_size * epochs))\n",
        "history = model.fit(\n",
        "    train_generator,\n",
        "    steps_per_epoch= steps_per_epoch,\n",
        "    epochs=epochs,\n",
        "    validation_data=validation_generator,\n",
        "    validation_steps=batch_size\n",
        ")"
      ],
      "execution_count": 0,
      "outputs": [
        {
          "output_type": "stream",
          "text": [
            "we use 56 steps per epoch, so for one epoch we use 448 images and for 5 epochs we use 2240 images\n",
            "Epoch 1/5\n",
            "56/56 [==============================] - 2s 30ms/step - loss: 0.6987 - accuracy: 0.9637 - val_loss: 0.6931 - val_accuracy: 0.9804\n",
            "Epoch 2/5\n",
            "56/56 [==============================] - 1s 25ms/step - loss: 0.6931 - accuracy: 0.9809 - val_loss: 0.6931 - val_accuracy: 0.9804\n",
            "Epoch 3/5\n",
            "56/56 [==============================] - 1s 25ms/step - loss: 0.6931 - accuracy: 0.9809 - val_loss: 0.6931 - val_accuracy: 0.9804\n",
            "Epoch 4/5\n",
            "56/56 [==============================] - 1s 25ms/step - loss: 0.6931 - accuracy: 0.9804 - val_loss: 0.6931 - val_accuracy: 0.9804\n",
            "Epoch 5/5\n",
            "56/56 [==============================] - 1s 25ms/step - loss: 0.6931 - accuracy: 0.9804 - val_loss: 0.6931 - val_accuracy: 0.9804\n"
          ],
          "name": "stdout"
        }
      ]
    },
    {
      "cell_type": "markdown",
      "metadata": {
        "id": "Iz8J-Umosok-",
        "colab_type": "text"
      },
      "source": [
        "It does not look like it learned anything. Let's plot the accuracy"
      ]
    },
    {
      "cell_type": "code",
      "metadata": {
        "id": "k3gyvHJyi0Sy",
        "colab_type": "code",
        "outputId": "2792345e-8614-4a59-ea2f-d273920fde3c",
        "colab": {
          "base_uri": "https://localhost:8080/",
          "height": 499
        }
      },
      "source": [
        "import matplotlib.pyplot as plt\n",
        "%matplotlib inline\n",
        "acc = history.history['accuracy']\n",
        "val_acc = history.history['val_accuracy']\n",
        "\n",
        "loss=history.history['loss']\n",
        "val_loss=history.history['val_loss']\n",
        "\n",
        "epochs_range = range(epochs)\n",
        "\n",
        "plt.figure(figsize=(8, 8))\n",
        "plt.subplot(1, 2, 1)\n",
        "plt.plot(epochs_range, acc, label='Training Accuracy')\n",
        "plt.plot(epochs_range, val_acc, label='Validation Accuracy')\n",
        "plt.legend(loc='lower right')\n",
        "plt.title('Training and Validation Accuracy')\n",
        "\n",
        "plt.subplot(1, 2, 2)\n",
        "plt.plot(epochs_range, loss, label='Training Loss')\n",
        "plt.plot(epochs_range, val_loss, label='Validation Loss')\n",
        "plt.legend(loc='upper right')\n",
        "plt.title('Training and Validation Loss')\n",
        "plt.show()"
      ],
      "execution_count": 0,
      "outputs": [
        {
          "output_type": "display_data",
          "data": {
            "image/png": "[encoded data removed]",
            "text/plain": [
              "<Figure size 576x576 with 2 Axes>"
            ]
          },
          "metadata": {
            "tags": [],
            "needs_background": "light"
          }
        }
      ]
    },
    {
      "cell_type": "markdown",
      "metadata": {
        "id": "-Xs6JoQds-_X",
        "colab_type": "text"
      },
      "source": [
        "No, it definitely did not work :(\n",
        "\n",
        "We can try to look at some images and what the network tell us about them"
      ]
    },
    {
      "cell_type": "code",
      "metadata": {
        "id": "Uhfsh5QgvNDA",
        "colab_type": "code",
        "outputId": "bbe02bf4-10ee-4d23-eb2b-b837132af255",
        "colab": {
          "base_uri": "https://localhost:8080/",
          "height": 289
        }
      },
      "source": [
        "from random import randrange\n",
        "sample_training_images, labels = next(validation_generator)\n",
        "\n",
        "how_many_images = 5\n",
        "plt.figure(figsize=(16,10))\n",
        "for i in range(how_many_images):\n",
        "  random_index = randrange(len(sample_training_images))\n",
        "  \n",
        "  plt.subplot(1, how_many_images, i+1)\n",
        "  plt.imshow(sample_training_images[random_index])\n",
        "  prediction = model.predict(np.expand_dims(sample_training_images[random_index], 0))\n",
        "  print(\"this time I try with the {}-th image - label is {} - model predicts {}\".format(random_index, labels[random_index], prediction))\n",
        "\n"
      ],
      "execution_count": 0,
      "outputs": [
        {
          "output_type": "stream",
          "text": [
            "this time I try with the 13-th image - label is 0.0 - model predicts [[4.1341123e-24]]\n",
            "this time I try with the 8-th image - label is 0.0 - model predicts [[9.739915e-25]]\n",
            "this time I try with the 17-th image - label is 0.0 - model predicts [[1.8248554e-24]]\n",
            "this time I try with the 6-th image - label is 0.0 - model predicts [[1.2676232e-24]]\n",
            "this time I try with the 21-th image - label is 0.0 - model predicts [[1.3564692e-24]]\n"
          ],
          "name": "stdout"
        },
        {
          "output_type": "display_data",
          "data": {
            "image/png": "[encoded data removed]",
            "text/plain": [
              "<Figure size 1152x720 with 5 Axes>"
            ]
          },
          "metadata": {
            "tags": [],
            "needs_background": "light"
          }
        }
      ]
    },
    {
      "cell_type": "markdown",
      "metadata": {
        "id": "iVJlNxKByuDU",
        "colab_type": "text"
      },
      "source": [
        "Nothing special here"
      ]
    },
    {
      "cell_type": "code",
      "metadata": {
        "id": "c7JEbWL2yo2q",
        "colab_type": "code",
        "outputId": "bb33e66a-ea7a-4401-9dd6-e84b1930e038",
        "colab": {
          "base_uri": "https://localhost:8080/",
          "height": 284
        }
      },
      "source": [
        "from random import randrange\n",
        "sample_training_images, labels = next(validation_generator)\n",
        "with_tell = np.argmax(labels)\n",
        "plt.figure()\n",
        "plt.imshow((sample_training_images[with_tell]))\n",
        "prediction = model.predict(np.expand_dims(sample_training_images[with_tell], 0))\n",
        "print(\"this time I test with the {}-th image - label is {} - model predicts {}\".format(with_tell, labels[with_tell], prediction))"
      ],
      "execution_count": 0,
      "outputs": [
        {
          "output_type": "stream",
          "text": [
            "this time I test with the 24-th image - label is 1.0 - model predicts [[1.0896833e-24]]\n"
          ],
          "name": "stdout"
        },
        {
          "output_type": "display_data",
          "data": {
            "image/png": "[encoded data removed]",
            "text/plain": [
              "<Figure size 432x288 with 1 Axes>"
            ]
          },
          "metadata": {
            "tags": [],
            "needs_background": "light"
          }
        }
      ]
    },
    {
      "cell_type": "markdown",
      "metadata": {
        "id": "ENp0FYAeywP5",
        "colab_type": "text"
      },
      "source": [
        "The positive one also has similar predicted value. "
      ]
    },
    {
      "cell_type": "code",
      "metadata": {
        "id": "wvtAhUQWBzI0",
        "colab_type": "code",
        "colab": {}
      },
      "source": [
        "# Delete all files within folder\n",
        "def delete_all(folder):\n",
        "    if not os.path.exists(folder):\n",
        "        return None\n",
        "    for filename in os.listdir(folder):\n",
        "        file_path = os.path.join(folder, filename)\n",
        "    try:\n",
        "        if os.path.isfile(file_path) or os.path.islink(file_path):\n",
        "            os.unlink(file_path)\n",
        "        elif os.path.isdir(file_path):\n",
        "            shutil.rmtree(file_path)\n",
        "    except Exception as e:\n",
        "        print('Failed to delete %s. Reason: %s' % (file_path, e))"
      ],
      "execution_count": 0,
      "outputs": []
    },
    {
      "cell_type": "code",
      "metadata": {
        "id": "VqlEoGkDCeqf",
        "colab_type": "code",
        "outputId": "8f957494-7bc2-42e1-8108-bfac972f7351",
        "colab": {
          "base_uri": "https://localhost:8080/",
          "height": 231
        }
      },
      "source": [
        "# TODO Move images to train and validation folder\n",
        "create_folder_structure_for_tensorflow(data_folder = \"data/derived_data\")\n",
        "\n",
        "from shutil import copyfile\n",
        "def copy_all(src, dst):\n",
        "    files = [src + file_name for file_name in os.listdir(src)]\n",
        "    [copyfile(file, dst) for file in files]\n",
        "\n",
        "# Move confirmed tells\n",
        "copy_all(data_folder + \"/derived_data/confirmed_sites\", \"train/tell\")\n",
        "\n",
        "# Move confirmed non-tells\n",
        "copy_all(data_folder + \"/derived_data/negative_examples\", \"train/notell\")\n",
        "\n",
        "# Move random unlabeled tiles"
      ],
      "execution_count": 0,
      "outputs": [
        {
          "output_type": "error",
          "ename": "NameError",
          "evalue": "ignored",
          "traceback": [
            "\u001b[0;31m---------------------------------------------------------------------------\u001b[0m",
            "\u001b[0;31mNameError\u001b[0m                                 Traceback (most recent call last)",
            "\u001b[0;32m<ipython-input-34-0274480e2299>\u001b[0m in \u001b[0;36m<module>\u001b[0;34m()\u001b[0m\n\u001b[1;32m      1\u001b[0m \u001b[0;31m# TODO Move images to train and validation folder\u001b[0m\u001b[0;34m\u001b[0m\u001b[0;34m\u001b[0m\u001b[0;34m\u001b[0m\u001b[0m\n\u001b[0;32m----> 2\u001b[0;31m \u001b[0mcreate_folder_structure_for_tensorflow\u001b[0m\u001b[0;34m(\u001b[0m\u001b[0mdata_folder\u001b[0m \u001b[0;34m=\u001b[0m \u001b[0;34m\"data/derived_data\"\u001b[0m\u001b[0;34m)\u001b[0m\u001b[0;34m\u001b[0m\u001b[0;34m\u001b[0m\u001b[0m\n\u001b[0m\u001b[1;32m      3\u001b[0m \u001b[0;34m\u001b[0m\u001b[0m\n\u001b[1;32m      4\u001b[0m \u001b[0;32mfrom\u001b[0m \u001b[0mshutil\u001b[0m \u001b[0;32mimport\u001b[0m \u001b[0mcopyfile\u001b[0m\u001b[0;34m\u001b[0m\u001b[0;34m\u001b[0m\u001b[0m\n\u001b[1;32m      5\u001b[0m \u001b[0;32mdef\u001b[0m \u001b[0mcopy_all\u001b[0m\u001b[0;34m(\u001b[0m\u001b[0msrc\u001b[0m\u001b[0;34m,\u001b[0m \u001b[0mdst\u001b[0m\u001b[0;34m)\u001b[0m\u001b[0;34m:\u001b[0m\u001b[0;34m\u001b[0m\u001b[0;34m\u001b[0m\u001b[0m\n",
            "\u001b[0;31mNameError\u001b[0m: name 'create_folder_structure_for_tensorflow' is not defined"
          ]
        }
      ]
    }
  ]
}