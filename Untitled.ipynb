{
 "cells": [
  {
   "cell_type": "code",
   "execution_count": 1,
   "metadata": {},
   "outputs": [
    {
     "name": "stdout",
     "output_type": "stream",
     "text": [
      "Enter number between -6 between 2: -2\n",
      "-2 -1  0  1  2  3  4 \n",
      " 5  6  7  8  9 10 11 \n",
      "12 13 14 15 16 17 18 \n",
      "19 20 21 22 23 24 25 \n",
      "26 27 28 29 30 31 32 \n",
      "33 34 35 36 37 38 39 \n"
     ]
    }
   ],
   "source": [
    "n = int(input('Enter number between -6 between 2: '))\n",
    "\n",
    "if -6 <= n <= 2:\n",
    "  for x in range(n, 37, 7):\n",
    "    for r in range(x,  x + 7):\n",
    "        print(\"{:>2}\".format(r), end=\" \")\n",
    "    print()\n",
    "\n",
    "else:\n",
    "  print(\"Wrong input!!\")"
   ]
  },
  {
   "cell_type": "code",
   "execution_count": 4,
   "metadata": {},
   "outputs": [],
   "source": [
    "di=r\"C:\\Users\\USER\\Handcrafted dataset\\binary_image\"\n",
    "img = \"0.png\"\n",
    "string = di.join(img)"
   ]
  },
  {
   "cell_type": "code",
   "execution_count": 15,
   "metadata": {},
   "outputs": [
    {
     "data": {
      "text/plain": [
       "'C:\\\\Users\\\\USER\\\\Handcrafted dataset\\\\binary_image\\\\1.png'"
      ]
     },
     "execution_count": 15,
     "metadata": {},
     "output_type": "execute_result"
    }
   ],
   "source": [
    "di+\"\\\\\"+str(1)+ \".png\""
   ]
  },
  {
   "cell_type": "code",
   "execution_count": 18,
   "metadata": {},
   "outputs": [
    {
     "data": {
      "text/plain": [
       "'C:\\\\Users\\\\USER\\\\Handcrafted dataset\\\\binary_image/1/png'"
      ]
     },
     "execution_count": 18,
     "metadata": {},
     "output_type": "execute_result"
    }
   ],
   "source": [
    "import os\n",
    "os.path.join(di,str(1), \"png\")"
   ]
  },
  {
   "cell_type": "code",
   "execution_count": 26,
   "metadata": {},
   "outputs": [
    {
     "name": "stdout",
     "output_type": "stream",
     "text": [
      "10\r"
     ]
    }
   ],
   "source": [
    "import sys\n",
    "import time\n",
    "for i in range(20):\n",
    "    sys.stdout.write(str(20-i)+'\\r')\n",
    "    time.sleep(1)"
   ]
  },
  {
   "cell_type": "code",
   "execution_count": 25,
   "metadata": {},
   "outputs": [
    {
     "name": "stdout",
     "output_type": "stream",
     "text": [
      "10\r"
     ]
    }
   ],
   "source": [
    "import sys\n",
    "import time\n",
    "for i in range(20):\n",
    "    print(str(20-i), end='\\r')\n",
    "    time.sleep(1)"
   ]
  },
  {
   "cell_type": "code",
   "execution_count": 29,
   "metadata": {},
   "outputs": [
    {
     "name": "stdout",
     "output_type": "stream",
     "text": [
      "Formula: sdasdasd\n",
      "are there other steps?: yes\n",
      "Step 1: 3uova\n",
      "Step 2: cam\n",
      "Step 3: no\n",
      "Step 4: stop\n",
      "['sdasdasd', '3uova', 'cam', 'no']\n",
      "['sdasdasd']\n",
      "['3uova']\n",
      "['cam']\n",
      "['no']\n",
      "Formula name: b\n",
      "how may unknown values?: 2\n",
      "unknown value: x\n",
      "unknown value: c\n",
      "enter the value of x: 3\n",
      "enter the value of c: 2\n",
      "['3', '2']\n",
      "['x', 'c']\n",
      "sdasdasd\n"
     ]
    }
   ],
   "source": [
    "import numpy as np\n",
    "formula = input('Formula: ')\n",
    "steps = input('are there other steps?: ')\n",
    "f = [formula]\n",
    "if steps == 'yes':\n",
    "  s = 0\n",
    "  while True:\n",
    "     s = s + 1\n",
    "     step = input('Step ' + str(s) + ': ')\n",
    "     f += [step]\n",
    "     if step == 'stop':\n",
    "        break\n",
    "\n",
    "f.remove('stop')\n",
    "print(f)\n",
    "split = np.array_split(f, len(f))\n",
    "\n",
    "for array in split:\n",
    "    b = list(array)\n",
    "    print(b)\n",
    "\n",
    "name = input('Formula name: ')\n",
    "unknown_values = int(input('how may unknown values?: '))\n",
    "unknown_array = []\n",
    "for i in range(unknown_values):\n",
    "    unknown_name = input('unknown value: ')\n",
    "    unknown_array += [unknown_name]\n",
    "\n",
    "values = []\n",
    "x = -1\n",
    "for i in range(len(unknown_array)):\n",
    "    values += [input('enter the value of ' + str(unknown_array[i] + ': '))]\n",
    "\n",
    "print(values)\n",
    "print(unknown_array)\n",
    "\n",
    "for word in unknown_array:\n",
    "    formula = formula.replace(word, values[unknown_array.index(word)])\n",
    "\n",
    "print(formula)"
   ]
  },
  {
   "cell_type": "code",
   "execution_count": 30,
   "metadata": {},
   "outputs": [
    {
     "data": {
      "text/plain": [
       "['no']"
      ]
     },
     "execution_count": 30,
     "metadata": {},
     "output_type": "execute_result"
    }
   ],
   "source": [
    "b"
   ]
  },
  {
   "cell_type": "code",
   "execution_count": 32,
   "metadata": {},
   "outputs": [],
   "source": [
    "a = list([23, 53452465, 6356])"
   ]
  },
  {
   "cell_type": "code",
   "execution_count": 33,
   "metadata": {},
   "outputs": [
    {
     "data": {
      "text/plain": [
       "[23, 53452465, 6356]"
      ]
     },
     "execution_count": 33,
     "metadata": {},
     "output_type": "execute_result"
    }
   ],
   "source": [
    "a"
   ]
  },
  {
   "cell_type": "code",
   "execution_count": 35,
   "metadata": {},
   "outputs": [],
   "source": [
    "c = [3 if s > 200 else 2 for s in a]"
   ]
  },
  {
   "cell_type": "code",
   "execution_count": 36,
   "metadata": {},
   "outputs": [
    {
     "data": {
      "text/plain": [
       "[2, 3, 3]"
      ]
     },
     "execution_count": 36,
     "metadata": {},
     "output_type": "execute_result"
    }
   ],
   "source": [
    "c"
   ]
  },
  {
   "cell_type": "code",
   "execution_count": null,
   "metadata": {},
   "outputs": [],
   "source": []
  }
 ],
 "metadata": {
  "kernelspec": {
   "display_name": "Python 3",
   "language": "python",
   "name": "python3"
  },
  "language_info": {
   "codemirror_mode": {
    "name": "ipython",
    "version": 3
   },
   "file_extension": ".py",
   "mimetype": "text/x-python",
   "name": "python",
   "nbconvert_exporter": "python",
   "pygments_lexer": "ipython3",
   "version": "3.7.4"
  }
 },
 "nbformat": 4,
 "nbformat_minor": 2
}
